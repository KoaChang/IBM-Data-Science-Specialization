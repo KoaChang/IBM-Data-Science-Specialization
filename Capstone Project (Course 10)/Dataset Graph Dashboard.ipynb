{
 "cells": [
  {
   "cell_type": "code",
   "execution_count": 1,
   "id": "ca91aecd",
   "metadata": {},
   "outputs": [],
   "source": [
    "# Import required libraries\n",
    "import pandas as pd\n",
    "import dash\n",
    "from dash import html\n",
    "from dash import dcc\n",
    "from dash.dependencies import Input, Output\n",
    "import plotly.express as px"
   ]
  },
  {
   "cell_type": "code",
   "execution_count": null,
   "id": "5e624e60",
   "metadata": {},
   "outputs": [
    {
     "name": "stdout",
     "output_type": "stream",
     "text": [
      "Dash is running on http://127.0.0.1:8050/\n",
      "\n",
      " * Serving Flask app '__main__' (lazy loading)\n",
      " * Environment: production\n",
      "\u001b[31m   WARNING: This is a development server. Do not use it in a production deployment.\u001b[0m\n",
      "\u001b[2m   Use a production WSGI server instead.\u001b[0m\n",
      " * Debug mode: off\n"
     ]
    },
    {
     "name": "stderr",
     "output_type": "stream",
     "text": [
      " * Running on http://127.0.0.1:8050/ (Press CTRL+C to quit)\n",
      "127.0.0.1 - - [31/Dec/2021 14:33:17] \"GET / HTTP/1.1\" 200 -\n",
      "127.0.0.1 - - [31/Dec/2021 14:33:17] \"GET /_dash-layout HTTP/1.1\" 200 -\n",
      "127.0.0.1 - - [31/Dec/2021 14:33:17] \"GET /_dash-dependencies HTTP/1.1\" 200 -\n",
      "127.0.0.1 - - [31/Dec/2021 14:33:17] \"GET /_dash-component-suites/dash/dcc/async-dropdown.js HTTP/1.1\" 200 -\n",
      "127.0.0.1 - - [31/Dec/2021 14:33:17] \"GET /_dash-component-suites/dash/dcc/async-graph.js HTTP/1.1\" 200 -\n",
      "127.0.0.1 - - [31/Dec/2021 14:33:17] \"GET /_dash-component-suites/dash/dcc/async-plotlyjs.js HTTP/1.1\" 200 -\n",
      "127.0.0.1 - - [31/Dec/2021 14:33:17] \"GET /_dash-component-suites/dash/dcc/async-slider.js HTTP/1.1\" 200 -\n"
     ]
    },
    {
     "name": "stdout",
     "output_type": "stream",
     "text": [
      "Exception on /_dash-update-component [POST]\n",
      "Traceback (most recent call last):\n",
      "  File \"/Library/Frameworks/Python.framework/Versions/3.9/lib/python3.9/site-packages/flask/app.py\", line 2073, in wsgi_app\n",
      "    response = self.full_dispatch_request()\n",
      "  File \"/Library/Frameworks/Python.framework/Versions/3.9/lib/python3.9/site-packages/flask/app.py\", line 1518, in full_dispatch_request\n",
      "    rv = self.handle_user_exception(e)\n",
      "  File \"/Library/Frameworks/Python.framework/Versions/3.9/lib/python3.9/site-packages/flask/app.py\", line 1516, in full_dispatch_request\n",
      "    rv = self.dispatch_request()\n",
      "  File \"/Library/Frameworks/Python.framework/Versions/3.9/lib/python3.9/site-packages/flask/app.py\", line 1502, in dispatch_request\n",
      "    return self.ensure_sync(self.view_functions[rule.endpoint])(**req.view_args)\n",
      "  File \"/Library/Frameworks/Python.framework/Versions/3.9/lib/python3.9/site-packages/dash/dash.py\", line 1336, in dispatch\n",
      "    response.set_data(func(*args, outputs_list=outputs_list))\n",
      "  File \"/Library/Frameworks/Python.framework/Versions/3.9/lib/python3.9/site-packages/dash/_callback.py\", line 151, in add_context\n",
      "    output_value = func(*func_args, **func_kwargs)  # %% callback invoked %%\n",
      "  File \"/var/folders/6r/t4hc2vvn0vn4_lv2s5gt4jjm0000gn/T/ipykernel_2655/1047247933.py\", line 64, in get_pie_chart\n",
      "    fig = px.pie(filtered_df, names='class', title='Total Success Launches for site ' + entered_site)\n",
      "TypeError: can only concatenate str (not \"NoneType\") to str\n"
     ]
    },
    {
     "name": "stderr",
     "output_type": "stream",
     "text": [
      "127.0.0.1 - - [31/Dec/2021 14:33:17] \"\u001b[35m\u001b[1mPOST /_dash-update-component HTTP/1.1\u001b[0m\" 500 -\n",
      "127.0.0.1 - - [31/Dec/2021 14:33:18] \"POST /_dash-update-component HTTP/1.1\" 200 -\n",
      "127.0.0.1 - - [31/Dec/2021 14:33:20] \"POST /_dash-update-component HTTP/1.1\" 200 -\n",
      "127.0.0.1 - - [31/Dec/2021 14:33:20] \"POST /_dash-update-component HTTP/1.1\" 200 -\n",
      "127.0.0.1 - - [31/Dec/2021 14:33:21] \"POST /_dash-update-component HTTP/1.1\" 200 -\n",
      "127.0.0.1 - - [31/Dec/2021 14:33:21] \"POST /_dash-update-component HTTP/1.1\" 200 -\n"
     ]
    }
   ],
   "source": [
    "# Import required libraries\n",
    "import pandas as pd\n",
    "import dash\n",
    "from dash import html\n",
    "from dash import dcc\n",
    "from dash.dependencies import Input, Output\n",
    "import plotly.express as px\n",
    " \n",
    "# Read the airline data into pandas dataframe\n",
    "spacex_df = pd.read_csv(\"spacex_launch_dash.csv\")\n",
    "max_payload = spacex_df['Payload Mass (kg)'].max()\n",
    "min_payload = spacex_df['Payload Mass (kg)'].min()\n",
    "# Create a dash application\n",
    "app = dash.Dash(__name__)\n",
    "launch_sites = spacex_df['Launch Site'].unique().tolist()\n",
    "dic_list = []\n",
    "dic_list.append({'label':'ALL','value':'ALL'})\n",
    "for site in launch_sites:\n",
    "   dic_list.append({'label':site,'value':site})\n",
    "  \n",
    "# Create an app layout\n",
    "app.layout = html.Div(children=[html.H1('SpaceX Launch Records Dashboard',\n",
    "                                       style={'textAlign': 'center', 'color': '#503D36',\n",
    "                                              'font-size': 40}),\n",
    "                              # TASK 1: Add a dropdown list to enable Launch Site selection\n",
    "                              # The default select value is for ALL sites\n",
    "                              dcc.Dropdown(id='site_dropdown',options=dic_list,placeholder='Select a Launch Site here',searchable=True),\n",
    "                              html.Br(),\n",
    "                              # TASK 2: Add a pie chart to show the total successful launches count for all sites\n",
    "                              # If a specific launch site was selected, show the Success vs. Failed counts for the site\n",
    "                              html.Div(dcc.Graph(id='success-pie-chart')),\n",
    "                              html.Br(),\n",
    "                              html.P(\"Payload range (Kg):\"),\n",
    "                              # TASK 3: Add a slider to select payload range\n",
    "                              dcc.RangeSlider(id='payload_slider',min=0, max=10000, step=1000,marks = {\n",
    "                                           0: '0 kg',\n",
    "                                           1000: '1000 kg',\n",
    "                                           2000: '2000 kg',\n",
    "                                           3000: '3000 kg',\n",
    "                                           4000: '4000 kg',\n",
    "                                           5000: '5000 kg',\n",
    "                                           6000: '6000 kg', \n",
    "                                           7000: '7000 kg',\n",
    "                                           8000: '8000 kg',\n",
    "                                           9000: '9000 kg',\n",
    "                                           10000: '10000 kg'                                        \n",
    "                                   },value=[min_payload, max_payload]),\n",
    "                              # TASK 4: Add a scatter chart to show the correlation between payload and launch success\n",
    "                              html.Div(dcc.Graph(id='success-payload-scatter-chart')),\n",
    "                              ])\n",
    "# TASK 2:\n",
    "# Add a callback function for `site-dropdown` as input, `success-pie-chart` as output\n",
    "@app.callback(Output(component_id='success-pie-chart', component_property='figure'),\n",
    "            Input(component_id='site_dropdown', component_property='value'))\n",
    "def get_pie_chart(entered_site):\n",
    "  if entered_site == 'ALL':\n",
    "      data = spacex_df[spacex_df['class'] == 1]\n",
    "      fig = px.pie(data,\n",
    "      names='Launch Site',\n",
    "      title='Total Success Launches By Site')\n",
    "      return fig\n",
    "  else:\n",
    "      filtered_df = spacex_df[spacex_df['Launch Site'] == entered_site]\n",
    "      fig = px.pie(filtered_df, names='class', title='Total Success Launches for site ' + entered_site)\n",
    "      return fig\n",
    "# TASK 4:\n",
    "# Add a callback function for `site-dropdown` and `payload-slider` as inputs, `success-payload-scatter-chart` as output\n",
    "@app.callback(Output(component_id='success-payload-scatter-chart', component_property='figure'),\n",
    "             [Input(component_id='site_dropdown', component_property='value'), Input(component_id=\"payload_slider\", component_property=\"value\")])\n",
    "def get_scatter_chart(site_dropdown,payload_slider):\n",
    "   if site_dropdown == 'ALL':\n",
    "       low, high = payload_slider\n",
    "       data = spacex_df[(spacex_df['Payload Mass (kg)'] > low) & (spacex_df['Payload Mass (kg)'] < high) ]\n",
    "       fig = px.scatter(data,x='Payload Mass (kg)',y='class',color='Booster Version Category',size='Payload Mass (kg)',\n",
    "           hover_data=['Payload Mass (kg)'])\n",
    "       return fig\n",
    "   else:\n",
    "       low, high = payload_slider\n",
    "       filtered_df = spacex_df[spacex_df['Launch Site'] == site_dropdown]\n",
    "       data = filtered_df[(filtered_df['Payload Mass (kg)'] > low) & (filtered_df['Payload Mass (kg)'] < high) ]\n",
    "       fig = px.scatter(data,x='Payload Mass (kg)',y='class',color='Booster Version Category',size='Payload Mass (kg)',\n",
    "           hover_data=['Payload Mass (kg)'])\n",
    "       return fig\n",
    "# Run the app\n",
    "if __name__ == '__main__':\n",
    "  app.run_server()"
   ]
  }
 ],
 "metadata": {
  "kernelspec": {
   "display_name": "Python 3 (ipykernel)",
   "language": "python",
   "name": "python3"
  },
  "language_info": {
   "codemirror_mode": {
    "name": "ipython",
    "version": 3
   },
   "file_extension": ".py",
   "mimetype": "text/x-python",
   "name": "python",
   "nbconvert_exporter": "python",
   "pygments_lexer": "ipython3",
   "version": "3.9.5"
  }
 },
 "nbformat": 4,
 "nbformat_minor": 5
}
