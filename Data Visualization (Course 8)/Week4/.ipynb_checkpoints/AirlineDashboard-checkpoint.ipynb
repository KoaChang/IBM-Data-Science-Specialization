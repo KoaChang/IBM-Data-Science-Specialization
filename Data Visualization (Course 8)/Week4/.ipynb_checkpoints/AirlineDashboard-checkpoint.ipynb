{
 "cells": [
  {
   "cell_type": "code",
   "execution_count": null,
   "id": "ebeecfeb",
   "metadata": {},
   "outputs": [
    {
     "name": "stdout",
     "output_type": "stream",
     "text": [
      "Dash is running on http://127.0.0.1:8050/\n",
      "\n",
      " * Serving Flask app '__main__' (lazy loading)\n",
      " * Environment: production\n",
      "\u001b[31m   WARNING: This is a development server. Do not use it in a production deployment.\u001b[0m\n",
      "\u001b[2m   Use a production WSGI server instead.\u001b[0m\n",
      " * Debug mode: off\n"
     ]
    },
    {
     "name": "stderr",
     "output_type": "stream",
     "text": [
      " * Running on http://127.0.0.1:8050/ (Press CTRL+C to quit)\n",
      "127.0.0.1 - - [26/Dec/2021 09:11:29] \"GET / HTTP/1.1\" 200 -\n",
      "127.0.0.1 - - [26/Dec/2021 09:11:29] \"GET /_dash-component-suites/dash/deps/polyfill@7.v2_0_0m1640545719.12.1.min.js HTTP/1.1\" 200 -\n",
      "127.0.0.1 - - [26/Dec/2021 09:11:29] \"GET /_dash-component-suites/dash/deps/react@16.v2_0_0m1640545719.14.0.min.js HTTP/1.1\" 200 -\n",
      "127.0.0.1 - - [26/Dec/2021 09:11:29] \"GET /_dash-component-suites/dash/deps/prop-types@15.v2_0_0m1640545719.7.2.min.js HTTP/1.1\" 200 -\n",
      "127.0.0.1 - - [26/Dec/2021 09:11:29] \"GET /_dash-component-suites/dash/dash-renderer/build/dash_renderer.v2_0_0m1640545718.min.js HTTP/1.1\" 200 -\n",
      "127.0.0.1 - - [26/Dec/2021 09:11:29] \"GET /_dash-component-suites/dash/deps/react-dom@16.v2_0_0m1640545719.14.0.min.js HTTP/1.1\" 200 -\n",
      "127.0.0.1 - - [26/Dec/2021 09:11:29] \"GET /_dash-component-suites/dash/dcc/dash_core_components.v2_0_0m1640545718.js HTTP/1.1\" 200 -\n",
      "127.0.0.1 - - [26/Dec/2021 09:11:29] \"GET /_dash-component-suites/dash/dcc/dash_core_components-shared.v2_0_0m1640545718.js HTTP/1.1\" 200 -\n",
      "127.0.0.1 - - [26/Dec/2021 09:11:29] \"GET /_dash-component-suites/dash/dash_table/bundle.v5_0_0m1640545718.js HTTP/1.1\" 200 -\n",
      "127.0.0.1 - - [26/Dec/2021 09:11:29] \"GET /_dash-component-suites/dash/html/dash_html_components.v2_0_0m1640545719.min.js HTTP/1.1\" 200 -\n",
      "127.0.0.1 - - [26/Dec/2021 09:11:30] \"GET /_dash-dependencies HTTP/1.1\" 200 -\n",
      "127.0.0.1 - - [26/Dec/2021 09:11:30] \"GET /_dash-layout HTTP/1.1\" 200 -\n",
      "127.0.0.1 - - [26/Dec/2021 09:11:30] \"GET /_favicon.ico?v=2.0.0 HTTP/1.1\" 200 -\n",
      "127.0.0.1 - - [26/Dec/2021 09:11:30] \"GET /_dash-component-suites/dash/dcc/async-graph.js HTTP/1.1\" 200 -\n",
      "127.0.0.1 - - [26/Dec/2021 09:11:30] \"GET /_dash-component-suites/dash/dcc/async-plotlyjs.js HTTP/1.1\" 200 -\n"
     ]
    }
   ],
   "source": [
    "# Import required packages\n",
    "import pandas as pd\n",
    "import plotly.express as px\n",
    "import dash\n",
    "from dash import html\n",
    "from dash import dcc\n",
    " \n",
    "# Read the airline data into pandas dataframe\n",
    "airline_data =  pd.read_csv('/Users/malamapono/IBM Data Science/Data Visualization (Course 8)/Week4/airline_data.csv',\n",
    "                           encoding = \"ISO-8859-1\",\n",
    "                           dtype={'Div1Airport': str, 'Div1TailNum': str,\n",
    "                                  'Div2Airport': str, 'Div2TailNum': str})\n",
    " \n",
    "# Randomly sample 500 data points. Setting the random state to be 42 so that we get same result.\n",
    "data = airline_data.sample(n=500, random_state=42)\n",
    " \n",
    "# Pie Chart Creation\n",
    "fig = px.pie(data, values='Flights', names='DistanceGroup', title='Distance group proportion by flights')\n",
    " \n",
    "# Create a dash application\n",
    "app = dash.Dash(__name__)\n",
    " \n",
    "# Get the layout of the application and adjust it.\n",
    "# Create an outer division using html.Div and add title to the dashboard using html.H1 component\n",
    "# Add description about the graph using HTML P (paragraph) component\n",
    "# Finally, add graph component.\n",
    "app.layout = html.Div(children=[html.H1('Airline Dashboard', style={'textAlign': 'center', 'color': '#503D36', 'font-size': 40}),\n",
    "                               html.P('Proportion of distance group (250 mile distance interval group) by flights.', style={'textAlign':'center', 'color': '#F57241'}),\n",
    "                               dcc.Graph(figure=fig),\n",
    "                                             \n",
    "                   ])\n",
    " \n",
    "# Run the application                  \n",
    "if __name__ == '__main__':\n",
    "   app.run_server()\n"
   ]
  }
 ],
 "metadata": {
  "kernelspec": {
   "display_name": "Python 3 (ipykernel)",
   "language": "python",
   "name": "python3"
  },
  "language_info": {
   "codemirror_mode": {
    "name": "ipython",
    "version": 3
   },
   "file_extension": ".py",
   "mimetype": "text/x-python",
   "name": "python",
   "nbconvert_exporter": "python",
   "pygments_lexer": "ipython3",
   "version": "3.9.5"
  }
 },
 "nbformat": 4,
 "nbformat_minor": 5
}
